{
 "cells": [
  {
   "cell_type": "code",
   "execution_count": 1,
   "id": "ed9dc7d4",
   "metadata": {},
   "outputs": [],
   "source": [
    "from coffea import util, processor\n",
    "from coffea.nanoevents import NanoEventsFactory, NanoAODSchema\n",
    "\n",
    "import vbfprocessor\n",
    "import awkward as ak\n",
    "import uproot\n",
    "\n",
    "import os\n",
    "import time"
   ]
  },
  {
   "cell_type": "code",
   "execution_count": 2,
   "id": "de2d0e9c",
   "metadata": {},
   "outputs": [],
   "source": [
    "all_filesets = {\n",
    "    \"VBF_SMEFTsim_topU3l_NP1\": [\n",
    "        \"root://cmseos.fnal.gov//store/user/jdickins/vbf-eft/VBF_SMEFTsim_topU3l_NP1/VBF_SMEFTsim_topU3l_NP1_STXS/240425_163141/0000//VBFH_SMEFTsim_\"+str(i)+\".root\" for i in range(1,201)\n",
    "    ],\n",
    "    \"VBF_SMEFTsim_topU3l_Direct_cHbox\": [\n",
    "         \"root://cmseos.fnal.gov//store/user/jennetd/vbf-eft/VBF_SMEFTsim_topU3l_Direct_cHbox/VBF_SMEFTsim_topU3l_Direct_cHbox/230919_233803/0000/VBFH_SMEFTsim_\"+str(i)+\".root\" for i in range(1,201)\n",
    "    ],\n",
    "    \"VBF_SMEFTsim_topU3l_Direct_cHW5\": [\n",
    "         \"root://cmseos.fnal.gov//store/user/jennetd/vbf-eft/VBF_SMEFTsim_topU3l_Direct_cHW5/VBF_SMEFTsim_topU3l_Direct_cHW5/240326_201523/0000/VBFH_SMEFTsim_\"+str(i)+\".root\" for i in range(1,201)\n",
    "    ],\n",
    "    \"VBF_SMEFTsim_topU3l_Linear_cHW\": [\n",
    "         \"root://cmseos.fnal.gov//store/user/jennetd/vbf-eft/VBF_SMEFTsim_topU3l_Linear_cHW/VBF_SMEFTsim_topU3l_Linear_cHW/230920_001033/0000/VBFH_SMEFTsim_\"+str(i)+\".root\" for i in range(1,201)\n",
    "    ],\n",
    "    \"VBF_SMEFTsim_topU3l_Quad_cHW\": [\n",
    "         \"root://cmseos.fnal.gov//store/user/jennetd/vbf-eft/VBF_SMEFTsim_topU3l_Quad_cHW/VBF_SMEFTsim_topU3l_Quad_cHW/230920_001106/0000/VBFH_SMEFTsim_\"+str(i)+\".root\" for i in range(1,201)\n",
    "    ],\n",
    "    \"VBF_SMEFTsim_topU3l_Linear_cHWtil\": [\n",
    "         \"root://cmseos.fnal.gov//store/user/jennetd/vbf-eft/VBF_SMEFTsim_topU3l_Linear_cHWtil/VBF_SMEFTsim_topU3l_Linear_cHWtil/230920_003136/0000/VBFH_SMEFTsim_\"+str(i)+\".root\" for i in range(1,201)\n",
    "    ],\n",
    "    \"VBF_SMEFTsim_topU3l_Quad_cHWtil\": [\n",
    "         \"root://cmseos.fnal.gov//store/user/jennetd/vbf-eft/VBF_SMEFTsim_topU3l_Quad_cHWtil/VBF_SMEFTsim_topU3l_Quad_cHWtil/230920_003225/0000/VBFH_SMEFTsim_\"+str(i)+\".root\" for i in range(1,201)\n",
    "    ],   \n",
    "    \"VBF_SMEFTsim_topU3l_Linear_cHbox\": [\n",
    "         \"root://cmseos.fnal.gov//store/user/jennetd/vbf-eft/VBF_SMEFTsim_topU3l_Linear_cHbox/VBF_SMEFTsim_topU3l_Linear_cHbox/230919_235238/0000/VBFH_SMEFTsim_\"+str(i)+\".root\" for i in range(1,201)\n",
    "    ],\n",
    "    \"VBF_SMEFTsim_topU3l_Quad_cHbox\": [\n",
    "         \"root://cmseos.fnal.gov//store/user/jennetd/vbf-eft/VBF_SMEFTsim_topU3l_Quad_cHbox/VBF_SMEFTsim_topU3l_Quad_cHbox/230919_235331/0000/VBFH_SMEFTsim_\"+str(i)+\".root\" for i in range(1,201)\n",
    "    ],  \n",
    "    \"VBF_SMEFTsim_topU3l_Linear_cHj1\": [\n",
    "         \"root://cmseos.fnal.gov//store/user/jennetd/vbf-eft/VBF_SMEFTsim_topU3l_Linear_cHj1/VBF_SMEFTsim_topU3l_Linear_cHj1/230919_233248/0000/VBFH_SMEFTsim_\"+str(i)+\".root\" for i in range(1,201)\n",
    "    ], \n",
    "    \"VBF_SMEFTsim_topU3l_Quad_cHj1\": [\n",
    "         \"root://cmseos.fnal.gov//store/user/jennetd/vbf-eft/VBF_SMEFTsim_topU3l_Quad_cHj1/VBF_SMEFTsim_topU3l_Quad_cHj1/230919_233036/0000/VBFH_SMEFTsim_\"+str(i)+\".root\" for i in range(1,201)\n",
    "    ],\n",
    "    \"VBF_SMEFTsim_topU3l_Linear_cHj3\": [\n",
    "         \"root://cmseos.fnal.gov//store/user/jennetd/vbf-eft/VBF_SMEFTsim_topU3l_Linear_cHj3/VBF_SMEFTsim_topU3l_Linear_cHj3/230919_233413/0000/VBFH_SMEFTsim_\"+str(i)+\".root\" for i in range(1,201)\n",
    "    ], \n",
    "    \"VBF_SMEFTsim_topU3l_Quad_cHj3\": [\n",
    "         \"root://cmseos.fnal.gov//store/user/jennetd/vbf-eft/VBF_SMEFTsim_topU3l_Quad_cHj3/VBF_SMEFTsim_topU3l_Quad_cHj3/230919_233144/0000/VBFH_SMEFTsim_\"+str(i)+\".root\" for i in range(1,201)\n",
    "    ],\n",
    "    \"VBF_SMEFTsim_topU3l_Direct_cHj1\": [\n",
    "         \"root://cmseos.fnal.gov//store/user/jennetd/vbf-eft/VBFH_SMEFTsim_NPall_topU3l_cHj1_1/VBFH_SMEFTsim_NPall_topU3l_cHj1_1/230519_134829/0000/VBFH_SMEFTsim_\"+str(i)+\".root\" for i in range(1,201)\n",
    "    ],\n",
    "    \"VBF_SMEFTsim_topU3l_Direct_cHj3\": [\n",
    "         \"root://cmseos.fnal.gov//store/user/jennetd/vbf-eft/VBFH_SMEFTsim_NPall_topU3l_cHj3_1/VBFH_SMEFTsim_NPall_topU3l_cHj3_1/230519_134845/0000/VBFH_SMEFTsim_\"+str(i)+\".root\" for i in range(1,201)\n",
    "    ],\n",
    "    \"VBF_SMEFTsim_topU3l_Direct_cHW\": [\n",
    "         \"root://cmseos.fnal.gov//store/user/jennetd/vbf-eft/VBFH_SMEFTsim_NPall_topU3l_cHW_1/VBFH_SMEFTsim_NPall_topU3l_cHW_1/230519_134915/0000/VBFH_SMEFTsim_\"+str(i)+\".root\" for i in range(1,201)\n",
    "    ],\n",
    "    \"VBF_SMEFTsim_topU3l_Direct_cHWtil\": [\n",
    "         \"root://cmseos.fnal.gov//store/user/jennetd/vbf-eft/VBFH_SMEFTsim_NPall_topU3l_cHWtil_1/VBFH_SMEFTsim_NPall_topU3l_cHWtil_1/230519_134931/0000//VBFH_SMEFTsim_\"+str(i)+\".root\" for i in range(1,201)\n",
    "    ],\n",
    "    \"Hqq_SMEFTsim_topU3l_NP1\": [\n",
    "         \"root://cmseos.fnal.gov//store/user/jdickins/vbf-eft/Hqq_SMEFTsim_topU3l_NP1/Hqq_SMEFTsim_topU3l_NP1/230918_201208/0000/VBFH_SMEFTsim_\"+str(i)+\".root\" for i in range(1,201)\n",
    "    ],\n",
    "    \"Hqq_SMEFTsim_topU3l_Direct_cHW\": [\n",
    "         \"root://cmseos.fnal.gov//store/user/jdickins/vbf-eft/Hqq_SMEFTsim_topU3l_Direct_cHW/Hqq_SMEFTsim_topU3l_Direct_cHW/230920_165636/0000/VBFH_SMEFTsim_\"+str(i)+\".root\" for i in range(1,201)\n",
    "    ],\n",
    "    \"Hqq_SMEFTsim_topU3l_Direct_cHWtil\": [\n",
    "         \"root://cmseos.fnal.gov//store/user/jdickins/vbf-eft/Hqq_SMEFTsim_topU3l_Direct_cHWtil/Hqq_SMEFTsim_topU3l_Direct_cHWtil/230920_165747/0000/VBFH_SMEFTsim_\"+str(i)+\".root\" for i in range(1,201)\n",
    "    ],\n",
    "    \"Hqq_SMEFTsim_topU3l_Direct_cHbox\": [\n",
    "         \"root://cmseos.fnal.gov//store/user/jdickins/vbf-eft/Hqq_SMEFTsim_topU3l_Direct_cHbox/Hqq_SMEFTsim_topU3l_Direct_cHbox/230920_165817/0000/VBFH_SMEFTsim_\"+str(i)+\".root\" for i in range(1,201)\n",
    "    ],\n",
    "    \"Hqq_SMEFTsim_topU3l_Direct_cHj1\": [\n",
    "         \"root://cmseos.fnal.gov//store/user/jdickins/vbf-eft/Hqq_SMEFTsim_topU3l_Direct_cHj1/Hqq_SMEFTsim_topU3l_Direct_cHj1/230920_165843/0000/VBFH_SMEFTsim_\"+str(i)+\".root\" for i in range(1,201)\n",
    "    ],\n",
    "    \"Hqq_SMEFTsim_topU3l_Direct_cHj3\": [\n",
    "         \"root://cmseos.fnal.gov//store/user/jdickins/vbf-eft/Hqq_SMEFTsim_topU3l_Direct_cHj3/Hqq_SMEFTsim_topU3l_Direct_cHj3/230920_165909/0000/VBFH_SMEFTsim_\"+str(i)+\".root\" for i in range(1,201)\n",
    "    ],\n",
    "    \"Hqq_SMEFTsim_topU3l_Linear_cHW\": [\n",
    "         \"root://cmseos.fnal.gov//store/user/jdickins/vbf-eft/Hqq_SMEFTsim_topU3l_Linear_cHW/Hqq_SMEFTsim_topU3l_Linear_cHW/230921_161735/0000/VBFH_SMEFTsim_\"+str(i)+\".root\" for i in range(1,201)\n",
    "    ],\n",
    "    \"Hqq_SMEFTsim_topU3l_Linear_cHWtil\": [\n",
    "         \"root://cmseos.fnal.gov//store/user/jdickins/vbf-eft/Hqq_SMEFTsim_topU3l_Linear_cHWtil/Hqq_SMEFTsim_topU3l_Linear_cHWtil/230921_161938/0000/VBFH_SMEFTsim_\"+str(i)+\".root\" for i in range(1,201)\n",
    "    ],\n",
    "    \"Hqq_SMEFTsim_topU3l_Linear_cHbox\": [\n",
    "         \"root://cmseos.fnal.gov//store/user/jdickins/vbf-eft/Hqq_SMEFTsim_topU3l_Linear_cHbox/Hqq_SMEFTsim_topU3l_Linear_cHbox/230921_162139/0000/VBFH_SMEFTsim_\"+str(i)+\".root\" for i in range(1,201)\n",
    "    ],\n",
    "    \"Hqq_SMEFTsim_topU3l_Linear_cHj1\": [\n",
    "         \"root://cmseos.fnal.gov//store/user/jdickins/vbf-eft/Hqq_SMEFTsim_topU3l_Linear_cHj1/Hqq_SMEFTsim_topU3l_Linear_cHj1/230921_162323/0000/VBFH_SMEFTsim_\"+str(i)+\".root\" for i in range(1,201)\n",
    "    ],\n",
    "    \"Hqq_SMEFTsim_topU3l_Linear_cHj3\": [\n",
    "         \"root://cmseos.fnal.gov//store/user/jdickins/vbf-eft/Hqq_SMEFTsim_topU3l_Linear_cHj3/Hqq_SMEFTsim_topU3l_Linear_cHj3/230921_162449/0000/VBFH_SMEFTsim_\"+str(i)+\".root\" for i in range(1,201)\n",
    "    ],\n",
    "    \"Hqq_SMEFTsim_topU3l_Quad_cHW\": [\n",
    "         \"root://cmseos.fnal.gov//store/user/jdickins/vbf-eft/Hqq_SMEFTsim_topU3l_Quad_cHW/Hqq_SMEFTsim_topU3l_Quad_cHW/230921_162811/0000/VBFH_SMEFTsim_\"+str(i)+\".root\" for i in range(1,201)\n",
    "    ],\n",
    "    \"Hqq_SMEFTsim_topU3l_Quad_cHWtil\": [\n",
    "         \"root://cmseos.fnal.gov//store/user/jdickins/vbf-eft/Hqq_SMEFTsim_topU3l_Quad_cHWtil/Hqq_SMEFTsim_topU3l_Quad_cHWtil/230921_164757/0000/VBFH_SMEFTsim_\"+str(i)+\".root\" for i in range(1,201)\n",
    "    ],\n",
    "    \"Hqq_SMEFTsim_topU3l_Quad_cHbox\": [\n",
    "         \"root://cmseos.fnal.gov//store/user/jdickins/vbf-eft/Hqq_SMEFTsim_topU3l_Quad_cHbox/Hqq_SMEFTsim_topU3l_Quad_cHbox/230921_165005/0000/VBFH_SMEFTsim_\"+str(i)+\".root\" for i in range(1,201)\n",
    "    ],\n",
    "    \"Hqq_SMEFTsim_topU3l_Quad_cHj1\": [\n",
    "         \"root://cmseos.fnal.gov//store/user/jdickins/vbf-eft/Hqq_SMEFTsim_topU3l_Quad_cHj1/Hqq_SMEFTsim_topU3l_Quad_cHj1/230921_165144/0000/VBFH_SMEFTsim_\"+str(i)+\".root\" for i in range(1,201)\n",
    "    ],\n",
    "    \"Hqq_SMEFTsim_topU3l_Quad_cHj3\": [\n",
    "         \"root://cmseos.fnal.gov//store/user/jdickins/vbf-eft/Hqq_SMEFTsim_topU3l_Quad_cHj3/Hqq_SMEFTsim_topU3l_Quad_cHj3/230921_165923/0000/VBFH_SMEFTsim_\"+str(i)+\".root\" for i in range(1,201)\n",
    "    ],  \n",
    "    \"VBF_SMEFTsim_topU3l_NP1_start1\": [\n",
    "         \"root://cmseos.fnal.gov//store/user/jdickins/vbf-eft/VBF_SMEFTsim_topU3l_NP1_start1/VBF_SMEFTsim_topU3l_NP1_start1/240423_191211/0000/VBFH_SMEFTsim_\"+str(i)+\".root\" for i in range(1,201)\n",
    "    ],\n",
    "    \"VBF_SMEFTsim_topU3l_NP1_Lambda10\": [\n",
    "         \"root://cmseos.fnal.gov//store/user/jdickins/vbf-eft/VBF_SMEFTsim_topU3l_NP1_Lambda10/VBF_SMEFTsim_topU3l_NP1_Lambda10/240423_191632/0000/VBFH_SMEFTsim_\"+str(i)+\".root\" for i in range(1,201)\n",
    "    ],\n",
    "    \"VBF_SMEFTsim_topU3l_NP1_noNPprop0\": [\n",
    "         \"root://cmseos.fnal.gov//store/user/jennetd/vbf-eft/VBF_SMEFTsim_topU3l_NP1_noNPprop0/VBF_SMEFTsim_topU3l_NP1_noNPprop0/240425_163228/0000//VBFH_SMEFTsim_\"+str(i)+\".root\" for i in range(1,201)\n",
    "    ],\n",
    "    \"VBF_SMEFTsim_topU3l_NPall1\": [\n",
    "         \"root://cmseos.fnal.gov//store/user/jennetd/vbf-eft/VBF_SMEFTsim_topU3l_NPall1/VBF_SMEFTsim_topU3l_NPall1/240424_151510/0000/VBFH_SMEFTsim_\"+str(i)+\".root\" for i in range(1,201)\n",
    "    ],\n",
    "    \"VBF_SMEFTsim_topU3l_Direct_cdBIm\": [\n",
    "         \"root://cmseos.fnal.gov//store/user/jdickins/vbf-eft/VBF_SMEFTsim_topU3l_Direct_cdBIm/VBF_SMEFTsim_topU3l_Direct_cdBIm/240425_225553/0000/VBFH_SMEFTsim_\"+str(i)+\".root\" for i in range(1,201)\n",
    "    ],\n",
    "    \"VBF_SMEFTsim_topU3l_Direct_cdBRe\": [\n",
    "         \"root://cmseos.fnal.gov//store/user/jdickins/vbf-eft/VBF_SMEFTsim_topU3l_Direct_cdBRe/VBF_SMEFTsim_topU3l_Direct_cdBRe/240425_224546/0000/VBFH_SMEFTsim_\"+str(i)+\".root\" for i in range(1,201)\n",
    "    ],\n",
    "    \"VBF_SMEFTsim_topU3l_Direct_cdWIm\": [\n",
    "         \"root://cmseos.fnal.gov//store/user/jdickins/vbf-eft/VBF_SMEFTsim_topU3l_Direct_cdWIm/VBF_SMEFTsim_topU3l_Direct_cdWIm/240425_223958/0000/VBFH_SMEFTsim_\"+str(i)+\".root\" for i in range(1,201)\n",
    "    ],\n",
    "    \"VBF_SMEFTsim_topU3l_Direct_cdWRe\": [\n",
    "         \"root://cmseos.fnal.gov//store/user/jdickins/vbf-eft/VBF_SMEFTsim_topU3l_Direct_cdWRe/VBF_SMEFTsim_topU3l_Direct_cdWRe/240425_223904/0000//VBFH_SMEFTsim_\"+str(i)+\".root\" for i in range(1,201)\n",
    "    ],\n",
    "    \"VBF_SMEFTsim_topU3l_Direct_cHB\": [\n",
    "         \"root://cmseos.fnal.gov//store/user/jdickins/vbf-eft/VBF_SMEFTsim_topU3l_Direct_cHB/VBF_SMEFTsim_topU3l_Direct_cHB/240425_222431/0000/VBFH_SMEFTsim_\"+str(i)+\".root\" for i in range(1,201)\n",
    "    ],\n",
    "    \"VBF_SMEFTsim_topU3l_Direct_cHBtil\": [\n",
    "         \"root://cmseos.fnal.gov//store/user/jdickins/vbf-eft/VBF_SMEFTsim_topU3l_Direct_cHBtil/VBF_SMEFTsim_topU3l_Direct_cHBtil/240425_222553/0000/VBFH_SMEFTsim_\"+str(i)+\".root\" for i in range(1,201)\n",
    "    ],\n",
    "    \"VBF_SMEFTsim_topU3l_Direct_cHd\": [\n",
    "         \"root://cmseos.fnal.gov//store/user/jdickins/vbf-eft/VBF_SMEFTsim_topU3l_Direct_cHd/VBF_SMEFTsim_topU3l_Direct_cHd/240425_223255/0000/VBFH_SMEFTsim_\"+str(i)+\".root\" for i in range(1,201)\n",
    "    ],\n",
    "    \"VBF_SMEFTsim_topU3l_Direct_cHDD\": [\n",
    "         \"root://cmseos.fnal.gov//store/user/jdickins/vbf-eft/VBF_SMEFTsim_topU3l_Direct_cHDD/VBF_SMEFTsim_topU3l_Direct_cHDD/240425_222322/0000/VBFH_SMEFTsim_\"+str(i)+\".root\" for i in range(1,201)\n",
    "    ],\n",
    "    \"VBF_SMEFTsim_topU3l_Direct_cHu\": [\n",
    "         \"root://cmseos.fnal.gov//store/user/jdickins/vbf-eft/VBF_SMEFTsim_topU3l_Direct_cHu/VBF_SMEFTsim_topU3l_Direct_cHu/240425_222937/0000/VBFH_SMEFTsim_\"+str(i)+\".root\" for i in range(1,201)\n",
    "    ],\n",
    "    \"VBF_SMEFTsim_topU3l_Direct_cHudRe\": [\n",
    "         \"root://cmseos.fnal.gov//store/user/jdickins/vbf-eft/VBF_SMEFTsim_topU3l_Direct_cHudRe/VBF_SMEFTsim_topU3l_Direct_cHudRe/240425_223358/0000/VBFH_SMEFTsim_\"+str(i)+\".root\" for i in range(1,201)\n",
    "    ],\n",
    "    \"VBF_SMEFTsim_topU3l_Direct_cHudIm\": [\n",
    "         \"root://cmseos.fnal.gov//store/user/jdickins/vbf-eft/VBF_SMEFTsim_topU3l_Direct_cHudIm/VBF_SMEFTsim_topU3l_Direct_cHudIm/240425_223501/0000/VBFH_SMEFTsim_\"+str(i)+\".root\" for i in range(1,201)\n",
    "    ],\n",
    "    \"VBF_SMEFTsim_topU3l_Direct_cHWB\": [\n",
    "         \"root://cmseos.fnal.gov//store/user/jdickins/vbf-eft/VBF_SMEFTsim_topU3l_Direct_cHWB/VBF_SMEFTsim_topU3l_Direct_cHWB/240425_222706/0000/VBFH_SMEFTsim_\"+str(i)+\".root\" for i in range(1,201)\n",
    "    ],\n",
    "    \"VBF_SMEFTsim_topU3l_Direct_cHWBtil\": [\n",
    "         \"root://cmseos.fnal.gov//store/user/jdickins/vbf-eft/VBF_SMEFTsim_topU3l_Direct_cHWBtil/VBF_SMEFTsim_topU3l_Direct_cHWBtil/240425_222817/0000/VBFH_SMEFTsim_\"+str(i)+\".root\" for i in range(1,201)\n",
    "    ],\n",
    "    \"VBF_SMEFTsim_topU3l_Direct_cuBIm\": [\n",
    "         \"root://cmseos.fnal.gov//store/user/jdickins/vbf-eft/VBF_SMEFTsim_topU3l_Direct_cuBIm/VBF_SMEFTsim_topU3l_Direct_cuBIm/240425_224233/0000/VBFH_SMEFTsim_\"+str(i)+\".root\" for i in range(1,201)\n",
    "    ],\n",
    "    \"VBF_SMEFTsim_topU3l_Direct_cuBRe\": [\n",
    "         \"root://cmseos.fnal.gov//store/user/jdickins/vbf-eft/VBF_SMEFTsim_topU3l_Direct_cuBRe/VBF_SMEFTsim_topU3l_Direct_cuBRe/240425_224112/0000/VBFH_SMEFTsim_\"+str(i)+\".root\" for i in range(1,201)\n",
    "    ],\n",
    "    \"VBF_SMEFTsim_topU3l_Direct_cuWIm\": [\n",
    "         \"root://cmseos.fnal.gov//store/user/jdickins/vbf-eft/VBF_SMEFTsim_topU3l_Direct_cuWRe/VBF_SMEFTsim_topU3l_Direct_cuWRe/240425_223620/0000/VBFH_SMEFTsim_\"+str(i)+\".root\" for i in range(1,201)\n",
    "    ],\n",
    "    \"VBF_SMEFTsim_topU3l_Direct_cuWRe\": [\n",
    "         \"root://cmseos.fnal.gov//store/user/jdickins/vbf-eft/VBF_SMEFTsim_topU3l_Direct_cuWIm/VBF_SMEFTsim_topU3l_Direct_cuWIm/240425_223713/0000/VBFH_SMEFTsim_\"+str(i)+\".root\" for i in range(1,201)\n",
    "    ],\n",
    "}"
   ]
  },
  {
   "cell_type": "code",
   "execution_count": 3,
   "id": "894a0fe4",
   "metadata": {},
   "outputs": [],
   "source": [
    "def run_samp(sample):\n",
    "\n",
    "    fileset = {}\n",
    "    fileset[sample] = all_filesets[sample]\n",
    "    outfile = \"coffea/\"+sample+\".coffea\"\n",
    "    \n",
    "    p = vbfprocessor.VBFProcessor(isMC=True)\n",
    "    args = {'savemetrics':True, 'schema':NanoAODSchema}\n",
    "\n",
    "    output = processor.run_uproot_job(\n",
    "        fileset,\n",
    "        treename=\"Events\",\n",
    "        processor_instance=p,\n",
    "        executor=processor.iterative_executor,#executor=processor.dask_executor,\n",
    "        executor_args={'schema': NanoAODSchema,'workers': 4},\n",
    "        chunksize=50000,\n",
    "        )\n",
    "\n",
    "    util.save(output, outfile)\n",
    "    print(\"saved \" + outfile)"
   ]
  },
  {
   "cell_type": "code",
   "execution_count": 4,
   "id": "08178176",
   "metadata": {},
   "outputs": [
    {
     "name": "stdout",
     "output_type": "stream",
     "text": [
      "VBF_SMEFTsim_topU3l_Direct_cdWIm\n"
     ]
    },
    {
     "data": {
      "application/vnd.jupyter.widget-view+json": {
       "model_id": "e39798914ffe4c04b905cfc45a30210f",
       "version_major": 2,
       "version_minor": 0
      },
      "text/plain": [
       "Output()"
      ]
     },
     "metadata": {},
     "output_type": "display_data"
    },
    {
     "data": {
      "text/html": [
       "<pre style=\"white-space:pre;overflow-x:auto;line-height:normal;font-family:Menlo,'DejaVu Sans Mono',consolas,'Courier New',monospace\"></pre>\n"
      ],
      "text/plain": []
     },
     "metadata": {},
     "output_type": "display_data"
    },
    {
     "data": {
      "text/html": [
       "<pre style=\"white-space:pre;overflow-x:auto;line-height:normal;font-family:Menlo,'DejaVu Sans Mono',consolas,'Courier New',monospace\">\n",
       "</pre>\n"
      ],
      "text/plain": [
       "\n"
      ]
     },
     "metadata": {},
     "output_type": "display_data"
    },
    {
     "data": {
      "application/vnd.jupyter.widget-view+json": {
       "model_id": "4d2b3799134c4889a0b308ab1c1a3d38",
       "version_major": 2,
       "version_minor": 0
      },
      "text/plain": [
       "Output()"
      ]
     },
     "metadata": {},
     "output_type": "display_data"
    },
    {
     "data": {
      "text/html": [
       "<pre style=\"white-space:pre;overflow-x:auto;line-height:normal;font-family:Menlo,'DejaVu Sans Mono',consolas,'Courier New',monospace\"></pre>\n"
      ],
      "text/plain": []
     },
     "metadata": {},
     "output_type": "display_data"
    },
    {
     "data": {
      "text/html": [
       "<pre style=\"white-space:pre;overflow-x:auto;line-height:normal;font-family:Menlo,'DejaVu Sans Mono',consolas,'Courier New',monospace\">\n",
       "</pre>\n"
      ],
      "text/plain": [
       "\n"
      ]
     },
     "metadata": {},
     "output_type": "display_data"
    },
    {
     "data": {
      "application/vnd.jupyter.widget-view+json": {
       "model_id": "9a6cb11a5ad4449fb74659c7f8409075",
       "version_major": 2,
       "version_minor": 0
      },
      "text/plain": [
       "Output()"
      ]
     },
     "metadata": {},
     "output_type": "display_data"
    },
    {
     "name": "stdout",
     "output_type": "stream",
     "text": [
      "saved coffea/VBF_SMEFTsim_topU3l_Direct_cdWIm.coffea\n",
      "VBF_SMEFTsim_topU3l_Direct_cdWRe\n"
     ]
    },
    {
     "data": {
      "text/html": [
       "<pre style=\"white-space:pre;overflow-x:auto;line-height:normal;font-family:Menlo,'DejaVu Sans Mono',consolas,'Courier New',monospace\"></pre>\n"
      ],
      "text/plain": []
     },
     "metadata": {},
     "output_type": "display_data"
    },
    {
     "data": {
      "text/html": [
       "<pre style=\"white-space:pre;overflow-x:auto;line-height:normal;font-family:Menlo,'DejaVu Sans Mono',consolas,'Courier New',monospace\">\n",
       "</pre>\n"
      ],
      "text/plain": [
       "\n"
      ]
     },
     "metadata": {},
     "output_type": "display_data"
    },
    {
     "data": {
      "application/vnd.jupyter.widget-view+json": {
       "model_id": "801ecae543514041b03cad4fc28fda14",
       "version_major": 2,
       "version_minor": 0
      },
      "text/plain": [
       "Output()"
      ]
     },
     "metadata": {},
     "output_type": "display_data"
    },
    {
     "data": {
      "text/html": [
       "<pre style=\"white-space:pre;overflow-x:auto;line-height:normal;font-family:Menlo,'DejaVu Sans Mono',consolas,'Courier New',monospace\"></pre>\n"
      ],
      "text/plain": []
     },
     "metadata": {},
     "output_type": "display_data"
    },
    {
     "data": {
      "text/html": [
       "<pre style=\"white-space:pre;overflow-x:auto;line-height:normal;font-family:Menlo,'DejaVu Sans Mono',consolas,'Courier New',monospace\">\n",
       "</pre>\n"
      ],
      "text/plain": [
       "\n"
      ]
     },
     "metadata": {},
     "output_type": "display_data"
    },
    {
     "data": {
      "application/vnd.jupyter.widget-view+json": {
       "model_id": "0c171f331e694a6db5b85d5158483e27",
       "version_major": 2,
       "version_minor": 0
      },
      "text/plain": [
       "Output()"
      ]
     },
     "metadata": {},
     "output_type": "display_data"
    },
    {
     "name": "stdout",
     "output_type": "stream",
     "text": [
      "saved coffea/VBF_SMEFTsim_topU3l_Direct_cdWRe.coffea\n",
      "VBF_SMEFTsim_topU3l_Direct_cuWIm\n"
     ]
    },
    {
     "data": {
      "text/html": [
       "<pre style=\"white-space:pre;overflow-x:auto;line-height:normal;font-family:Menlo,'DejaVu Sans Mono',consolas,'Courier New',monospace\"></pre>\n"
      ],
      "text/plain": []
     },
     "metadata": {},
     "output_type": "display_data"
    },
    {
     "data": {
      "text/html": [
       "<pre style=\"white-space:pre;overflow-x:auto;line-height:normal;font-family:Menlo,'DejaVu Sans Mono',consolas,'Courier New',monospace\">\n",
       "</pre>\n"
      ],
      "text/plain": [
       "\n"
      ]
     },
     "metadata": {},
     "output_type": "display_data"
    },
    {
     "data": {
      "application/vnd.jupyter.widget-view+json": {
       "model_id": "b2459b5b011f41b581809e0af304b0dd",
       "version_major": 2,
       "version_minor": 0
      },
      "text/plain": [
       "Output()"
      ]
     },
     "metadata": {},
     "output_type": "display_data"
    },
    {
     "data": {
      "text/html": [
       "<pre style=\"white-space:pre;overflow-x:auto;line-height:normal;font-family:Menlo,'DejaVu Sans Mono',consolas,'Courier New',monospace\"></pre>\n"
      ],
      "text/plain": []
     },
     "metadata": {},
     "output_type": "display_data"
    },
    {
     "data": {
      "text/html": [
       "<pre style=\"white-space:pre;overflow-x:auto;line-height:normal;font-family:Menlo,'DejaVu Sans Mono',consolas,'Courier New',monospace\">\n",
       "</pre>\n"
      ],
      "text/plain": [
       "\n"
      ]
     },
     "metadata": {},
     "output_type": "display_data"
    },
    {
     "data": {
      "application/vnd.jupyter.widget-view+json": {
       "model_id": "a0b148414943446596cbb3e91ed1253e",
       "version_major": 2,
       "version_minor": 0
      },
      "text/plain": [
       "Output()"
      ]
     },
     "metadata": {},
     "output_type": "display_data"
    },
    {
     "name": "stdout",
     "output_type": "stream",
     "text": [
      "saved coffea/VBF_SMEFTsim_topU3l_Direct_cuWIm.coffea\n",
      "VBF_SMEFTsim_topU3l_Direct_cuWRe\n"
     ]
    },
    {
     "data": {
      "text/html": [
       "<pre style=\"white-space:pre;overflow-x:auto;line-height:normal;font-family:Menlo,'DejaVu Sans Mono',consolas,'Courier New',monospace\"></pre>\n"
      ],
      "text/plain": []
     },
     "metadata": {},
     "output_type": "display_data"
    },
    {
     "data": {
      "text/html": [
       "<pre style=\"white-space:pre;overflow-x:auto;line-height:normal;font-family:Menlo,'DejaVu Sans Mono',consolas,'Courier New',monospace\">\n",
       "</pre>\n"
      ],
      "text/plain": [
       "\n"
      ]
     },
     "metadata": {},
     "output_type": "display_data"
    },
    {
     "data": {
      "application/vnd.jupyter.widget-view+json": {
       "model_id": "73cf7032780640e2a7e95db19517fb08",
       "version_major": 2,
       "version_minor": 0
      },
      "text/plain": [
       "Output()"
      ]
     },
     "metadata": {},
     "output_type": "display_data"
    },
    {
     "data": {
      "text/html": [
       "<pre style=\"white-space:pre;overflow-x:auto;line-height:normal;font-family:Menlo,'DejaVu Sans Mono',consolas,'Courier New',monospace\"></pre>\n"
      ],
      "text/plain": []
     },
     "metadata": {},
     "output_type": "display_data"
    },
    {
     "data": {
      "text/html": [
       "<pre style=\"white-space:pre;overflow-x:auto;line-height:normal;font-family:Menlo,'DejaVu Sans Mono',consolas,'Courier New',monospace\">\n",
       "</pre>\n"
      ],
      "text/plain": [
       "\n"
      ]
     },
     "metadata": {},
     "output_type": "display_data"
    },
    {
     "name": "stdout",
     "output_type": "stream",
     "text": [
      "saved coffea/VBF_SMEFTsim_topU3l_Direct_cuWRe.coffea\n"
     ]
    }
   ],
   "source": [
    "for s in all_filesets.keys():\n",
    "    \n",
    "    outfile = \"coffea/\"+s+\".coffea\"\n",
    "    if not os.path.exists(outfile) and 'VBF' in s:\n",
    "        print(s)\n",
    "        run_samp(s)"
   ]
  },
  {
   "cell_type": "code",
   "execution_count": null,
   "id": "848693d2",
   "metadata": {},
   "outputs": [],
   "source": []
  }
 ],
 "metadata": {
  "kernelspec": {
   "display_name": "Python 3 (ipykernel)",
   "language": "python",
   "name": "python3"
  },
  "language_info": {
   "codemirror_mode": {
    "name": "ipython",
    "version": 3
   },
   "file_extension": ".py",
   "mimetype": "text/x-python",
   "name": "python",
   "nbconvert_exporter": "python",
   "pygments_lexer": "ipython3",
   "version": "3.10.8"
  }
 },
 "nbformat": 4,
 "nbformat_minor": 5
}
